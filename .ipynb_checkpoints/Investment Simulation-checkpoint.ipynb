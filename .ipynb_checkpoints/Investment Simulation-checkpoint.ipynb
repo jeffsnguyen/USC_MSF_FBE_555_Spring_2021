{
 "cells": [
  {
   "cell_type": "markdown",
   "id": "peaceful-arctic",
   "metadata": {},
   "source": [
    "# Investment Simulation"
   ]
  },
  {
   "cell_type": "code",
   "execution_count": 1,
   "id": "familiar-marker",
   "metadata": {},
   "outputs": [],
   "source": [
    "from IPython.core.interactiveshell import InteractiveShell\n",
    "\n",
    "InteractiveShell.ast_node_interactivity = \"all\""
   ]
  },
  {
   "cell_type": "code",
   "execution_count": 2,
   "id": "assigned-hanging",
   "metadata": {},
   "outputs": [
    {
     "data": {
      "text/html": [
       "<div>\n",
       "<style scoped>\n",
       "    .dataframe tbody tr th:only-of-type {\n",
       "        vertical-align: middle;\n",
       "    }\n",
       "\n",
       "    .dataframe tbody tr th {\n",
       "        vertical-align: top;\n",
       "    }\n",
       "\n",
       "    .dataframe thead th {\n",
       "        text-align: right;\n",
       "    }\n",
       "</style>\n",
       "<table border=\"1\" class=\"dataframe\">\n",
       "  <thead>\n",
       "    <tr style=\"text-align: right;\">\n",
       "      <th>Unnamed: 0</th>\n",
       "      <th>Market capitalization</th>\n",
       "      <th>Book-to-market ratio</th>\n",
       "      <th>Past 2 to 12 month return</th>\n",
       "      <th>Past 1 month return</th>\n",
       "      <th>Past 13 to 60 month return</th>\n",
       "      <th>Stock return variance</th>\n",
       "      <th>Operating profitability</th>\n",
       "      <th>Investment</th>\n",
       "      <th>Accruals</th>\n",
       "      <th>CAPM beta</th>\n",
       "      <th>Net share issuance</th>\n",
       "    </tr>\n",
       "  </thead>\n",
       "  <tbody>\n",
       "    <tr>\n",
       "      <th>Fund 1</th>\n",
       "      <td>0.2</td>\n",
       "      <td>-0.35</td>\n",
       "      <td>0.06</td>\n",
       "      <td>0.006</td>\n",
       "      <td>0.15</td>\n",
       "      <td>0.5</td>\n",
       "      <td>-0.075</td>\n",
       "      <td>0.075</td>\n",
       "      <td>0.0</td>\n",
       "      <td>0.15</td>\n",
       "      <td>0.06</td>\n",
       "    </tr>\n",
       "    <tr>\n",
       "      <th>Fund 2</th>\n",
       "      <td>0.734</td>\n",
       "      <td>-0.0076</td>\n",
       "      <td>0.3152</td>\n",
       "      <td>-0.201</td>\n",
       "      <td>0.0472</td>\n",
       "      <td>0.0335</td>\n",
       "      <td>0.067</td>\n",
       "      <td>-0.131</td>\n",
       "      <td>0.0</td>\n",
       "      <td>0.0</td>\n",
       "      <td>-0.0061</td>\n",
       "    </tr>\n",
       "    <tr>\n",
       "      <th>Fund 3</th>\n",
       "      <td>1.0</td>\n",
       "      <td>-0.15</td>\n",
       "      <td>0.05</td>\n",
       "      <td>0.0</td>\n",
       "      <td>0.05</td>\n",
       "      <td>0.0</td>\n",
       "      <td>0.0</td>\n",
       "      <td>0.5</td>\n",
       "      <td>0.5</td>\n",
       "      <td>0.0</td>\n",
       "      <td>0.1</td>\n",
       "    </tr>\n",
       "    <tr>\n",
       "      <th>Fund 4</th>\n",
       "      <td>-0.6</td>\n",
       "      <td>-0.6</td>\n",
       "      <td>0.12</td>\n",
       "      <td>0.012</td>\n",
       "      <td>0.3</td>\n",
       "      <td>0.0</td>\n",
       "      <td>-0.15</td>\n",
       "      <td>0.15</td>\n",
       "      <td>0.0</td>\n",
       "      <td>0.0</td>\n",
       "      <td>0.12</td>\n",
       "    </tr>\n",
       "    <tr>\n",
       "      <th>Fund 5</th>\n",
       "      <td>-0.2</td>\n",
       "      <td>-0.13</td>\n",
       "      <td>-0.05</td>\n",
       "      <td>0.0</td>\n",
       "      <td>0.03</td>\n",
       "      <td>-0.01</td>\n",
       "      <td>-0.02</td>\n",
       "      <td>0.48</td>\n",
       "      <td>0.0</td>\n",
       "      <td>0.0</td>\n",
       "      <td>0.09</td>\n",
       "    </tr>\n",
       "    <tr>\n",
       "      <th>Fund 6</th>\n",
       "      <td>0.6</td>\n",
       "      <td>0.5</td>\n",
       "      <td>-0.1</td>\n",
       "      <td>-0.01</td>\n",
       "      <td>-0.25</td>\n",
       "      <td>0.0</td>\n",
       "      <td>0.125</td>\n",
       "      <td>-0.125</td>\n",
       "      <td>-0.3</td>\n",
       "      <td>0.0</td>\n",
       "      <td>-0.1</td>\n",
       "    </tr>\n",
       "    <tr>\n",
       "      <th>Fund 7</th>\n",
       "      <td>0.198</td>\n",
       "      <td>-0.0472</td>\n",
       "      <td>0.335</td>\n",
       "      <td>0.0</td>\n",
       "      <td>0.0603</td>\n",
       "      <td>-0.1444</td>\n",
       "      <td>0.067</td>\n",
       "      <td>0.067</td>\n",
       "      <td>0.0</td>\n",
       "      <td>0.0076</td>\n",
       "      <td>0.0335</td>\n",
       "    </tr>\n",
       "    <tr>\n",
       "      <th>Fund 8</th>\n",
       "      <td>-0.6</td>\n",
       "      <td>0.0</td>\n",
       "      <td>0.0</td>\n",
       "      <td>0.2</td>\n",
       "      <td>0.0</td>\n",
       "      <td>0.0</td>\n",
       "      <td>0.0</td>\n",
       "      <td>0.0</td>\n",
       "      <td>0.0</td>\n",
       "      <td>0.0</td>\n",
       "      <td>0.0</td>\n",
       "    </tr>\n",
       "    <tr>\n",
       "      <th>Fund 9</th>\n",
       "      <td>1.0</td>\n",
       "      <td>0.0</td>\n",
       "      <td>0.0</td>\n",
       "      <td>-0.3</td>\n",
       "      <td>0.0</td>\n",
       "      <td>0.0</td>\n",
       "      <td>0.0</td>\n",
       "      <td>0.0</td>\n",
       "      <td>0.5</td>\n",
       "      <td>0.0</td>\n",
       "      <td>0.0</td>\n",
       "    </tr>\n",
       "    <tr>\n",
       "      <th>Fund 10</th>\n",
       "      <td>0.8</td>\n",
       "      <td>0.15</td>\n",
       "      <td>-0.06</td>\n",
       "      <td>0.0</td>\n",
       "      <td>-0.3</td>\n",
       "      <td>0.0</td>\n",
       "      <td>-0.06</td>\n",
       "      <td>-0.06</td>\n",
       "      <td>0.5</td>\n",
       "      <td>0.0</td>\n",
       "      <td>-0.03</td>\n",
       "    </tr>\n",
       "  </tbody>\n",
       "</table>\n",
       "</div>"
      ],
      "text/plain": [
       "Unnamed: 0 Market capitalization Book-to-market ratio  \\\n",
       "Fund 1                       0.2                -0.35   \n",
       "Fund 2                     0.734              -0.0076   \n",
       "Fund 3                       1.0                -0.15   \n",
       "Fund 4                      -0.6                 -0.6   \n",
       "Fund 5                      -0.2                -0.13   \n",
       "Fund 6                       0.6                  0.5   \n",
       "Fund 7                     0.198              -0.0472   \n",
       "Fund 8                      -0.6                  0.0   \n",
       "Fund 9                       1.0                  0.0   \n",
       "Fund 10                      0.8                 0.15   \n",
       "\n",
       "Unnamed: 0 Past 2 to 12 month return Past 1 month return  \\\n",
       "Fund 1                          0.06               0.006   \n",
       "Fund 2                        0.3152              -0.201   \n",
       "Fund 3                          0.05                 0.0   \n",
       "Fund 4                          0.12               0.012   \n",
       "Fund 5                         -0.05                 0.0   \n",
       "Fund 6                          -0.1               -0.01   \n",
       "Fund 7                         0.335                 0.0   \n",
       "Fund 8                           0.0                 0.2   \n",
       "Fund 9                           0.0                -0.3   \n",
       "Fund 10                        -0.06                 0.0   \n",
       "\n",
       "Unnamed: 0 Past 13 to 60 month return Stock return variance  \\\n",
       "Fund 1                           0.15                   0.5   \n",
       "Fund 2                         0.0472                0.0335   \n",
       "Fund 3                           0.05                   0.0   \n",
       "Fund 4                            0.3                   0.0   \n",
       "Fund 5                           0.03                 -0.01   \n",
       "Fund 6                          -0.25                   0.0   \n",
       "Fund 7                         0.0603               -0.1444   \n",
       "Fund 8                            0.0                   0.0   \n",
       "Fund 9                            0.0                   0.0   \n",
       "Fund 10                          -0.3                   0.0   \n",
       "\n",
       "Unnamed: 0 Operating profitability Investment Accruals CAPM beta  \\\n",
       "Fund 1                      -0.075      0.075      0.0      0.15   \n",
       "Fund 2                       0.067     -0.131      0.0       0.0   \n",
       "Fund 3                         0.0        0.5      0.5       0.0   \n",
       "Fund 4                       -0.15       0.15      0.0       0.0   \n",
       "Fund 5                       -0.02       0.48      0.0       0.0   \n",
       "Fund 6                       0.125     -0.125     -0.3       0.0   \n",
       "Fund 7                       0.067      0.067      0.0    0.0076   \n",
       "Fund 8                         0.0        0.0      0.0       0.0   \n",
       "Fund 9                         0.0        0.0      0.5       0.0   \n",
       "Fund 10                      -0.06      -0.06      0.5       0.0   \n",
       "\n",
       "Unnamed: 0 Net share issuance  \n",
       "Fund 1                   0.06  \n",
       "Fund 2                -0.0061  \n",
       "Fund 3                    0.1  \n",
       "Fund 4                   0.12  \n",
       "Fund 5                   0.09  \n",
       "Fund 6                   -0.1  \n",
       "Fund 7                 0.0335  \n",
       "Fund 8                    0.0  \n",
       "Fund 9                    0.0  \n",
       "Fund 10                 -0.03  "
      ]
     },
     "execution_count": 2,
     "metadata": {},
     "output_type": "execute_result"
    }
   ],
   "source": [
    "import pandas as pd\n",
    "import numpy as np\n",
    "\n",
    "# Load the Excel Sheet\n",
    "fn = r'1_data_practice.xls'\n",
    "\n",
    "xl = pd.ExcelFile(fn)\n",
    "\n",
    "dfs = {sh:xl.parse(sh) for sh in xl.sheet_names}  # Read each sheets to a dict\n",
    "\n",
    "# Assign each sheet (dict) to a separate dataframe\n",
    "dfReturns = dfs['returns']\n",
    "dfChar = dfs['characteristics']\n",
    "dfFutR = dfs['future_returns'] \n",
    "\n",
    "# Clean up characteristic sheet\n",
    "dfChar = dfChar.T  # Transpose data so funds' factors end up in rows\n",
    "dfChar.columns = dfChar.iloc[0]  # Set name for columns to be factor name\n",
    "dfChar.drop(dfChar.index[0], inplace=True)  # Dropping unnecessary index row due to tranpose\n",
    "dfChar"
   ]
  },
  {
   "cell_type": "code",
   "execution_count": 3,
   "id": "tracked-charles",
   "metadata": {},
   "outputs": [],
   "source": [
    "import numpy as np\n",
    "import scipy.stats as spstats\n",
    "\n",
    "# Calculate the weight of each assets as a normal cdf of each factor and the corresponded coefficient plus alpha\n",
    "def w(alphaCoeff, betaCoeffArr, factorArr):\n",
    "    sum =  alphaCoeff + np.dot(betaCoeffArr, factorArr)\n",
    "    N_f = spstats.norm.cdf(sum,0,1)\n",
    "    \n",
    "    return 3*N_f - 1  # coerce the weight to be within [-2,2] range\n",
    "    \n",
    "#############################🤣\n",
    "# Financial functions\n",
    "\n",
    "# Calculate Correlation Coeffcient Matrix\n",
    "def corrMatrix(df):\n",
    "    return np.corrcoef(df)\n",
    "\n",
    "# Portfolio Returns \n",
    "def muP(wVector, mu_iVector): \n",
    "    return np.dot(wVector, mu_iVector)\n",
    "\n",
    "# Calculate Sharpe Ratio\n",
    "def Sharpe(rf, mu_p, sigma_p):\n",
    "    return (mu_p - rf) / sigma_p"
   ]
  },
  {
   "cell_type": "code",
   "execution_count": 4,
   "id": "wooden-dating",
   "metadata": {},
   "outputs": [
    {
     "data": {
      "text/html": [
       "<div>\n",
       "<style scoped>\n",
       "    .dataframe tbody tr th:only-of-type {\n",
       "        vertical-align: middle;\n",
       "    }\n",
       "\n",
       "    .dataframe tbody tr th {\n",
       "        vertical-align: top;\n",
       "    }\n",
       "\n",
       "    .dataframe thead th {\n",
       "        text-align: right;\n",
       "    }\n",
       "</style>\n",
       "<table border=\"1\" class=\"dataframe\">\n",
       "  <thead>\n",
       "    <tr style=\"text-align: right;\">\n",
       "      <th></th>\n",
       "      <th>Fund 1</th>\n",
       "      <th>Fund 2</th>\n",
       "      <th>Fund 3</th>\n",
       "      <th>Fund 4</th>\n",
       "      <th>Fund 5</th>\n",
       "      <th>Fund 6</th>\n",
       "      <th>Fund 7</th>\n",
       "      <th>Fund 8</th>\n",
       "      <th>Fund 9</th>\n",
       "      <th>Fund 10</th>\n",
       "    </tr>\n",
       "  </thead>\n",
       "  <tbody>\n",
       "    <tr>\n",
       "      <th>0</th>\n",
       "      <td>0.058101</td>\n",
       "      <td>0.051248</td>\n",
       "      <td>0.012660</td>\n",
       "      <td>0.0851</td>\n",
       "      <td>0.05525</td>\n",
       "      <td>0.040203</td>\n",
       "      <td>0.052053</td>\n",
       "      <td>0.0608</td>\n",
       "      <td>0.010410</td>\n",
       "      <td>0.038908</td>\n",
       "    </tr>\n",
       "    <tr>\n",
       "      <th>1</th>\n",
       "      <td>-0.005652</td>\n",
       "      <td>0.020287</td>\n",
       "      <td>-0.012105</td>\n",
       "      <td>0.0089</td>\n",
       "      <td>0.00325</td>\n",
       "      <td>0.003717</td>\n",
       "      <td>0.010191</td>\n",
       "      <td>0.0125</td>\n",
       "      <td>-0.013855</td>\n",
       "      <td>-0.014919</td>\n",
       "    </tr>\n",
       "    <tr>\n",
       "      <th>2</th>\n",
       "      <td>0.060428</td>\n",
       "      <td>0.103077</td>\n",
       "      <td>0.056875</td>\n",
       "      <td>0.0671</td>\n",
       "      <td>0.04900</td>\n",
       "      <td>0.050768</td>\n",
       "      <td>0.068224</td>\n",
       "      <td>0.0353</td>\n",
       "      <td>0.048476</td>\n",
       "      <td>0.079825</td>\n",
       "    </tr>\n",
       "    <tr>\n",
       "      <th>3</th>\n",
       "      <td>0.073637</td>\n",
       "      <td>0.050137</td>\n",
       "      <td>0.026112</td>\n",
       "      <td>0.0984</td>\n",
       "      <td>0.07090</td>\n",
       "      <td>0.059703</td>\n",
       "      <td>0.077295</td>\n",
       "      <td>0.0975</td>\n",
       "      <td>0.030363</td>\n",
       "      <td>0.048093</td>\n",
       "    </tr>\n",
       "    <tr>\n",
       "      <th>4</th>\n",
       "      <td>-0.020262</td>\n",
       "      <td>-0.020055</td>\n",
       "      <td>-0.009130</td>\n",
       "      <td>-0.0101</td>\n",
       "      <td>-0.01295</td>\n",
       "      <td>-0.017178</td>\n",
       "      <td>-0.007962</td>\n",
       "      <td>0.0106</td>\n",
       "      <td>-0.001930</td>\n",
       "      <td>-0.029149</td>\n",
       "    </tr>\n",
       "  </tbody>\n",
       "</table>\n",
       "</div>"
      ],
      "text/plain": [
       "     Fund 1    Fund 2    Fund 3  Fund 4   Fund 5    Fund 6    Fund 7  Fund 8  \\\n",
       "0  0.058101  0.051248  0.012660  0.0851  0.05525  0.040203  0.052053  0.0608   \n",
       "1 -0.005652  0.020287 -0.012105  0.0089  0.00325  0.003717  0.010191  0.0125   \n",
       "2  0.060428  0.103077  0.056875  0.0671  0.04900  0.050768  0.068224  0.0353   \n",
       "3  0.073637  0.050137  0.026112  0.0984  0.07090  0.059703  0.077295  0.0975   \n",
       "4 -0.020262 -0.020055 -0.009130 -0.0101 -0.01295 -0.017178 -0.007962  0.0106   \n",
       "\n",
       "     Fund 9   Fund 10  \n",
       "0  0.010410  0.038908  \n",
       "1 -0.013855 -0.014919  \n",
       "2  0.048476  0.079825  \n",
       "3  0.030363  0.048093  \n",
       "4 -0.001930 -0.029149  "
      ]
     },
     "execution_count": 4,
     "metadata": {},
     "output_type": "execute_result"
    },
    {
     "data": {
      "text/plain": [
       "array([[ 5.00434815e-04,  1.81988459e-04,  5.66166859e-05, ...,\n",
       "         3.62474279e-05,  2.32910327e-04,  1.02777761e-05],\n",
       "       [ 1.81988459e-04,  1.50344335e-04,  5.75467294e-05, ...,\n",
       "         8.43922268e-05,  2.17615607e-04, -1.20741107e-05],\n",
       "       [ 5.66166859e-05,  5.75467294e-05,  3.65490203e-04, ...,\n",
       "         1.06233355e-04,  9.83572167e-05, -1.77087493e-05],\n",
       "       ...,\n",
       "       [ 3.62474279e-05,  8.43922268e-05,  1.06233355e-04, ...,\n",
       "         3.14719151e-04,  4.39406304e-04, -2.01622910e-05],\n",
       "       [ 2.32910327e-04,  2.17615607e-04,  9.83572167e-05, ...,\n",
       "         4.39406304e-04,  9.13129750e-04, -8.90484133e-05],\n",
       "       [ 1.02777761e-05, -1.20741107e-05, -1.77087493e-05, ...,\n",
       "        -2.01622910e-05, -8.90484133e-05,  3.08810724e-05]])"
      ]
     },
     "execution_count": 4,
     "metadata": {},
     "output_type": "execute_result"
    }
   ],
   "source": [
    "histR = dfReturns.loc[:, slice(\"Fund 1\", \"Fund 10\")]  # Slice the returns only to grab vcov\n",
    "histR.head()\n",
    "vcovHistRMat = np.cov(histR)  # Get variance-covariance matrix of historical returns\n",
    "vcovHistRMat"
   ]
  },
  {
   "cell_type": "code",
   "execution_count": 5,
   "id": "social-tamil",
   "metadata": {},
   "outputs": [
    {
     "data": {
      "text/html": [
       "<div>\n",
       "<style scoped>\n",
       "    .dataframe tbody tr th:only-of-type {\n",
       "        vertical-align: middle;\n",
       "    }\n",
       "\n",
       "    .dataframe tbody tr th {\n",
       "        vertical-align: top;\n",
       "    }\n",
       "\n",
       "    .dataframe thead th {\n",
       "        text-align: right;\n",
       "    }\n",
       "</style>\n",
       "<table border=\"1\" class=\"dataframe\">\n",
       "  <thead>\n",
       "    <tr style=\"text-align: right;\">\n",
       "      <th></th>\n",
       "      <th>Unnamed: 0</th>\n",
       "      <th>RMRF</th>\n",
       "      <th>RSMB</th>\n",
       "      <th>RHML</th>\n",
       "      <th>RF</th>\n",
       "      <th>Fund 1</th>\n",
       "      <th>Fund 2</th>\n",
       "      <th>Fund 3</th>\n",
       "      <th>Fund 4</th>\n",
       "      <th>Fund 5</th>\n",
       "      <th>Fund 6</th>\n",
       "      <th>Fund 7</th>\n",
       "      <th>Fund 8</th>\n",
       "      <th>Fund 9</th>\n",
       "      <th>Fund 10</th>\n",
       "    </tr>\n",
       "  </thead>\n",
       "  <tbody>\n",
       "    <tr>\n",
       "      <th>0</th>\n",
       "      <td>Month 1</td>\n",
       "      <td>0.017674</td>\n",
       "      <td>0.045959</td>\n",
       "      <td>-0.006031</td>\n",
       "      <td>0.005199</td>\n",
       "      <td>0.058101</td>\n",
       "      <td>0.051248</td>\n",
       "      <td>0.012660</td>\n",
       "      <td>0.0851</td>\n",
       "      <td>0.05525</td>\n",
       "      <td>0.040203</td>\n",
       "      <td>0.052053</td>\n",
       "      <td>0.0608</td>\n",
       "      <td>0.010410</td>\n",
       "      <td>0.038908</td>\n",
       "    </tr>\n",
       "    <tr>\n",
       "      <th>1</th>\n",
       "      <td>Month 2</td>\n",
       "      <td>-0.016806</td>\n",
       "      <td>0.016930</td>\n",
       "      <td>0.005840</td>\n",
       "      <td>0.005591</td>\n",
       "      <td>-0.005652</td>\n",
       "      <td>0.020287</td>\n",
       "      <td>-0.012105</td>\n",
       "      <td>0.0089</td>\n",
       "      <td>0.00325</td>\n",
       "      <td>0.003717</td>\n",
       "      <td>0.010191</td>\n",
       "      <td>0.0125</td>\n",
       "      <td>-0.013855</td>\n",
       "      <td>-0.014919</td>\n",
       "    </tr>\n",
       "    <tr>\n",
       "      <th>2</th>\n",
       "      <td>Month 3</td>\n",
       "      <td>0.051047</td>\n",
       "      <td>0.002810</td>\n",
       "      <td>-0.011053</td>\n",
       "      <td>0.005676</td>\n",
       "      <td>0.060428</td>\n",
       "      <td>0.103077</td>\n",
       "      <td>0.056875</td>\n",
       "      <td>0.0671</td>\n",
       "      <td>0.04900</td>\n",
       "      <td>0.050768</td>\n",
       "      <td>0.068224</td>\n",
       "      <td>0.0353</td>\n",
       "      <td>0.048476</td>\n",
       "      <td>0.079825</td>\n",
       "    </tr>\n",
       "    <tr>\n",
       "      <th>3</th>\n",
       "      <td>Month 4</td>\n",
       "      <td>0.037620</td>\n",
       "      <td>0.050919</td>\n",
       "      <td>-0.004756</td>\n",
       "      <td>0.005603</td>\n",
       "      <td>0.073637</td>\n",
       "      <td>0.050137</td>\n",
       "      <td>0.026112</td>\n",
       "      <td>0.0984</td>\n",
       "      <td>0.07090</td>\n",
       "      <td>0.059703</td>\n",
       "      <td>0.077295</td>\n",
       "      <td>0.0975</td>\n",
       "      <td>0.030363</td>\n",
       "      <td>0.048093</td>\n",
       "    </tr>\n",
       "    <tr>\n",
       "      <th>4</th>\n",
       "      <td>Month 5</td>\n",
       "      <td>-0.014375</td>\n",
       "      <td>-0.004080</td>\n",
       "      <td>0.018704</td>\n",
       "      <td>0.006325</td>\n",
       "      <td>-0.020262</td>\n",
       "      <td>-0.020055</td>\n",
       "      <td>-0.009130</td>\n",
       "      <td>-0.0101</td>\n",
       "      <td>-0.01295</td>\n",
       "      <td>-0.017178</td>\n",
       "      <td>-0.007962</td>\n",
       "      <td>0.0106</td>\n",
       "      <td>-0.001930</td>\n",
       "      <td>-0.029149</td>\n",
       "    </tr>\n",
       "  </tbody>\n",
       "</table>\n",
       "</div>"
      ],
      "text/plain": [
       "  Unnamed: 0      RMRF      RSMB      RHML        RF    Fund 1    Fund 2  \\\n",
       "0    Month 1  0.017674  0.045959 -0.006031  0.005199  0.058101  0.051248   \n",
       "1    Month 2 -0.016806  0.016930  0.005840  0.005591 -0.005652  0.020287   \n",
       "2    Month 3  0.051047  0.002810 -0.011053  0.005676  0.060428  0.103077   \n",
       "3    Month 4  0.037620  0.050919 -0.004756  0.005603  0.073637  0.050137   \n",
       "4    Month 5 -0.014375 -0.004080  0.018704  0.006325 -0.020262 -0.020055   \n",
       "\n",
       "     Fund 3  Fund 4   Fund 5    Fund 6    Fund 7  Fund 8    Fund 9   Fund 10  \n",
       "0  0.012660  0.0851  0.05525  0.040203  0.052053  0.0608  0.010410  0.038908  \n",
       "1 -0.012105  0.0089  0.00325  0.003717  0.010191  0.0125 -0.013855 -0.014919  \n",
       "2  0.056875  0.0671  0.04900  0.050768  0.068224  0.0353  0.048476  0.079825  \n",
       "3  0.026112  0.0984  0.07090  0.059703  0.077295  0.0975  0.030363  0.048093  \n",
       "4 -0.009130 -0.0101 -0.01295 -0.017178 -0.007962  0.0106 -0.001930 -0.029149  "
      ]
     },
     "execution_count": 5,
     "metadata": {},
     "output_type": "execute_result"
    }
   ],
   "source": [
    "dfReturns.head()"
   ]
  },
  {
   "cell_type": "markdown",
   "id": "intended-tribune",
   "metadata": {},
   "source": [
    "# Methodology\n",
    "\n",
    "We hypothesize the asset allocation decision follow a multi-factor model with the following factor:  \n",
    "1) Market Risk Premium $R_m - r_f$.  \n",
    "2) Small Market Capitalization Minus Big Cap Firms (SMB).  \n",
    "3) High book-to-value ratio firms Minus Low book-to-value firm (HML).  \n",
    "4) Market Capitalization.  \n",
    "5) Book-to-market Ratio.  \n",
    "6) Past 2 to 12 months returns.   \n",
    "7) Past 1 month return.  \n",
    "8) Past 13 to 60 month returns.  \n",
    "9) Stock return variance.  \n",
    "10) Operating profitability.  \n",
    "11) Investment.  \n",
    "12) Accruals.  \n",
    "13) CAPM beta.  \n",
    "14) Net share issuance.  \n",
    "\n",
    "The objective is then to come up with an asset allocation strategy that allocates based on the coefficient of these factors. Let $X_i$ be the factors. Then, the asset weights in our model follow a linear function of these factors as follow:  \n",
    "\n",
    "\\begin{equation}\n",
    "    \\begin{split}\n",
    "        w(i) =& 3 N(f) - 1  \\\\\n",
    "        \\text{with}&  \\\\\n",
    "        f =& \\alpha_0 + \\beta_1 X_1 + \\beta_2 X_2 + \\beta_3 X_3 + ... + \\beta_n X_n\n",
    "    \\end{split}\n",
    "\\end{equation}\n",
    "  \n",
    "The thought process behind $3N(f) - 1$ is as follow:  \n",
    "Our hypothesis is that the desired portfolio--maximizing Sharpe ratio--would have the sum weigh for all asset in the portfolio as a cumulative distribution function of the product of the coefficients of each factor and the factor itself, i.e.:\n",
    "\n",
    "\\begin{equation}\n",
    "    \\begin{split}\n",
    "        F_X(x) =& W_i(x)  \\\\\n",
    "               =& \\sum_{i \\leqslant x} P[X=i]  \\\\\n",
    "               =& \\beta_1 X_1 + \\beta_2 X_2 + \\beta_3 X_3 + ... + \\beta_n X_n  \\\\\n",
    "    \\end{split}\n",
    "\\end{equation}\n",
    "  \n",
    "\n",
    "To arrive at the coefficients for these factors, we will train our model based on 72-month blocks of the data, splitting 60:12, i.e. 60-month data will be used as trainning set for the following 12-month data.  \n",
    "\n",
    "The input parameters for our model are:  \n",
    "1) Monthly Returns for each funds.  \n",
    "2) Monthly data of 14 Factors indicated above.  \n",
    "3) Expected Returns for each funds based on monthly data.  \n",
    "4) Standard Deviation for each funds based on monthly data.  \n",
    "\n",
    "## Regression on Expected Returns\n",
    "\n",
    "Expected Returns of each asset is an important parameter of our model. We hypothesize it to be a multi-factor linear model. The expected portfolio risk premium $E[R_i - r_f]$ of each assets is a function as follow:\n",
    "  \n",
    "\\begin{equation}\n",
    "    \\begin{split}\n",
    "        E[R_i - r_f] =& \\gamma_0 + \\gamma_1 E[R_m] +  \\gamma_2 X_1 + \\gamma_3 X_2 + ... \\gamma_n X_{n+1} \\\\\n",
    "    \\end{split}\n",
    "\\end{equation}"
   ]
  },
  {
   "cell_type": "code",
   "execution_count": 6,
   "id": "egyptian-deposit",
   "metadata": {},
   "outputs": [],
   "source": [
    "# Add more factor to the factor table\n",
    "dfChar[\"RMRF\"] = dfReturns[\"RMRF\"].mean()  # Initialize expected market returns as a factor\n",
    "dfChar[\"RSMB\"] = dfReturns[\"RSMB\"].mean()  # Intialize SMB as a factor\n",
    "dfChar[\"RHML\"] = dfReturns[\"RHML\"].mean()  # Initalize HML as a factor\n",
    "\n",
    "# Add E[R_i - r_f] for each fund the lazy way, there's probably better way to do this\n",
    "# We will assume E[R_i] = mean(E[R_{i,j}]) where j indicates the historical month index\n",
    "dfChar.at[\"Fund 1\", \"E_RPRF\"] = dfReturns[\"Fund 1\"].mean() - dfReturns[\"RF\"].mean()\n",
    "dfChar.at[\"Fund 2\", \"E_RPRF\"] = dfReturns[\"Fund 2\"].mean() - dfReturns[\"RF\"].mean()\n",
    "dfChar.at[\"Fund 3\", \"E_RPRF\"] = dfReturns[\"Fund 3\"].mean() - dfReturns[\"RF\"].mean()\n",
    "dfChar.at[\"Fund 4\", \"E_RPRF\"] = dfReturns[\"Fund 4\"].mean() - dfReturns[\"RF\"].mean()\n",
    "dfChar.at[\"Fund 5\", \"E_RPRF\"] = dfReturns[\"Fund 5\"].mean() - dfReturns[\"RF\"].mean()\n",
    "dfChar.at[\"Fund 6\", \"E_RPRF\"] = dfReturns[\"Fund 6\"].mean() - dfReturns[\"RF\"].mean()\n",
    "dfChar.at[\"Fund 7\", \"E_RPRF\"] = dfReturns[\"Fund 7\"].mean() - dfReturns[\"RF\"].mean()\n",
    "dfChar.at[\"Fund 8\", \"E_RPRF\"] = dfReturns[\"Fund 8\"].mean() - dfReturns[\"RF\"].mean()\n",
    "dfChar.at[\"Fund 9\", \"E_RPRF\"] = dfReturns[\"Fund 9\"].mean() - dfReturns[\"RF\"].mean()\n",
    "dfChar.at[\"Fund 10\", \"E_RPRF\"] = dfReturns[\"Fund 10\"].mean() - dfReturns[\"RF\"].mean()\n",
    "\n",
    "# Add actual R_i - r_f based on \"future\" returns\n",
    "dfChar.at[\"Fund 1\", \"RPRF\"] = dfFutR[\"Fund 1\"].mean() - dfFutR[\"RF\"].mean()\n",
    "dfChar.at[\"Fund 2\", \"RPRF\"] = dfFutR[\"Fund 2\"].mean() - dfFutR[\"RF\"].mean()\n",
    "dfChar.at[\"Fund 3\", \"RPRF\"] = dfFutR[\"Fund 3\"].mean() - dfFutR[\"RF\"].mean()\n",
    "dfChar.at[\"Fund 4\", \"RPRF\"] = dfFutR[\"Fund 4\"].mean() - dfFutR[\"RF\"].mean()\n",
    "dfChar.at[\"Fund 5\", \"RPRF\"] = dfFutR[\"Fund 5\"].mean() - dfFutR[\"RF\"].mean()\n",
    "dfChar.at[\"Fund 6\", \"RPRF\"] = dfFutR[\"Fund 6\"].mean() - dfFutR[\"RF\"].mean()\n",
    "dfChar.at[\"Fund 7\", \"RPRF\"] = dfFutR[\"Fund 7\"].mean() - dfFutR[\"RF\"].mean()\n",
    "dfChar.at[\"Fund 8\", \"RPRF\"] = dfFutR[\"Fund 8\"].mean() - dfFutR[\"RF\"].mean()\n",
    "dfChar.at[\"Fund 9\", \"RPRF\"] = dfFutR[\"Fund 9\"].mean() - dfFutR[\"RF\"].mean()\n",
    "dfChar.at[\"Fund 10\", \"RPRF\"] = dfFutR[\"Fund 10\"].mean() - dfFutR[\"RF\"].mean()"
   ]
  },
  {
   "cell_type": "markdown",
   "id": "foster-majority",
   "metadata": {},
   "source": [
    "### Observation of potential relationship between Portfolio Risk Premium $E[R_i - R_f]$ and the factors"
   ]
  },
  {
   "cell_type": "code",
   "execution_count": 7,
   "id": "personalized-marathon",
   "metadata": {},
   "outputs": [
    {
     "data": {
      "text/plain": [
       "<AxesSubplot:xlabel='RMRF', ylabel='RPRF'>"
      ]
     },
     "execution_count": 7,
     "metadata": {},
     "output_type": "execute_result"
    },
    {
     "data": {
      "image/png": "[encoded data removed]",
      "text/plain": [
       "<Figure size 432x288 with 1 Axes>"
      ]
     },
     "metadata": {
      "needs_background": "light"
     },
     "output_type": "display_data"
    }
   ],
   "source": [
    "dfChar.plot('RMRF', 'RPRF', kind='scatter')"
   ]
  },
  {
   "cell_type": "code",
   "execution_count": 8,
   "id": "immediate-glossary",
   "metadata": {},
   "outputs": [
    {
     "data": {
      "text/plain": [
       "<AxesSubplot:xlabel='RSMB', ylabel='RPRF'>"
      ]
     },
     "execution_count": 8,
     "metadata": {},
     "output_type": "execute_result"
    },
    {
     "data": {
      "image/png": "[encoded data removed]",
      "text/plain": [
       "<Figure size 432x288 with 1 Axes>"
      ]
     },
     "metadata": {
      "needs_background": "light"
     },
     "output_type": "display_data"
    }
   ],
   "source": [
    "dfChar.plot('RSMB', 'RPRF', kind='scatter')"
   ]
  },
  {
   "cell_type": "code",
   "execution_count": 9,
   "id": "diagnostic-adams",
   "metadata": {},
   "outputs": [
    {
     "data": {
      "text/plain": [
       "<AxesSubplot:xlabel='RHML', ylabel='RPRF'>"
      ]
     },
     "execution_count": 9,
     "metadata": {},
     "output_type": "execute_result"
    },
    {
     "data": {
      "image/png": "[encoded data removed]",
      "text/plain": [
       "<Figure size 432x288 with 1 Axes>"
      ]
     },
     "metadata": {
      "needs_background": "light"
     },
     "output_type": "display_data"
    }
   ],
   "source": [
    "dfChar.plot('RHML', 'RPRF', kind='scatter')"
   ]
  },
  {
   "cell_type": "code",
   "execution_count": 10,
   "id": "latin-conversion",
   "metadata": {},
   "outputs": [
    {
     "data": {
      "text/plain": [
       "<AxesSubplot:xlabel='Market capitalization', ylabel='RPRF'>"
      ]
     },
     "execution_count": 10,
     "metadata": {},
     "output_type": "execute_result"
    },
    {
     "data": {
      "image/png": "[encoded data removed]",
      "text/plain": [
       "<Figure size 432x288 with 1 Axes>"
      ]
     },
     "metadata": {
      "needs_background": "light"
     },
     "output_type": "display_data"
    }
   ],
   "source": [
    "dfChar.plot('Market capitalization', 'RPRF', kind='scatter')"
   ]
  },
  {
   "cell_type": "code",
   "execution_count": 11,
   "id": "medical-hospital",
   "metadata": {},
   "outputs": [
    {
     "data": {
      "text/plain": [
       "<AxesSubplot:xlabel='Book-to-market ratio', ylabel='RPRF'>"
      ]
     },
     "execution_count": 11,
     "metadata": {},
     "output_type": "execute_result"
    },
    {
     "data": {
      "image/png": "[encoded data removed]",
      "text/plain": [
       "<Figure size 432x288 with 1 Axes>"
      ]
     },
     "metadata": {
      "needs_background": "light"
     },
     "output_type": "display_data"
    }
   ],
   "source": [
    "dfChar.plot('Book-to-market ratio', 'RPRF', kind='scatter')"
   ]
  },
  {
   "cell_type": "code",
   "execution_count": 12,
   "id": "elect-trading",
   "metadata": {},
   "outputs": [
    {
     "data": {
      "text/plain": [
       "<AxesSubplot:xlabel='Past 2 to 12 month return', ylabel='RPRF'>"
      ]
     },
     "execution_count": 12,
     "metadata": {},
     "output_type": "execute_result"
    },
    {
     "data": {
      "image/png": "[encoded data removed]",
      "text/plain": [
       "<Figure size 432x288 with 1 Axes>"
      ]
     },
     "metadata": {
      "needs_background": "light"
     },
     "output_type": "display_data"
    }
   ],
   "source": [
    "dfChar.plot('Past 2 to 12 month return', 'RPRF', kind='scatter')"
   ]
  },
  {
   "cell_type": "code",
   "execution_count": 13,
   "id": "surface-somalia",
   "metadata": {},
   "outputs": [
    {
     "data": {
      "text/plain": [
       "<AxesSubplot:xlabel='Past 1 month return', ylabel='RPRF'>"
      ]
     },
     "execution_count": 13,
     "metadata": {},
     "output_type": "execute_result"
    },
    {
     "data": {
      "image/png": "[encoded data removed]",
      "text/plain": [
       "<Figure size 432x288 with 1 Axes>"
      ]
     },
     "metadata": {
      "needs_background": "light"
     },
     "output_type": "display_data"
    }
   ],
   "source": [
    "dfChar.plot('Past 1 month return', 'RPRF', kind='scatter')"
   ]
  },
  {
   "cell_type": "code",
   "execution_count": 14,
   "id": "scientific-given",
   "metadata": {},
   "outputs": [
    {
     "data": {
      "text/plain": [
       "<AxesSubplot:xlabel='Past 13 to 60 month return', ylabel='RPRF'>"
      ]
     },
     "execution_count": 14,
     "metadata": {},
     "output_type": "execute_result"
    },
    {
     "data": {
      "image/png": "[encoded data removed]",
      "text/plain": [
       "<Figure size 432x288 with 1 Axes>"
      ]
     },
     "metadata": {
      "needs_background": "light"
     },
     "output_type": "display_data"
    }
   ],
   "source": [
    "dfChar.plot('Past 13 to 60 month return', 'RPRF', kind='scatter')"
   ]
  },
  {
   "cell_type": "code",
   "execution_count": 15,
   "id": "located-conditions",
   "metadata": {},
   "outputs": [
    {
     "data": {
      "text/plain": [
       "<AxesSubplot:xlabel='Stock return variance', ylabel='RPRF'>"
      ]
     },
     "execution_count": 15,
     "metadata": {},
     "output_type": "execute_result"
    },
    {
     "data": {
      "image/png": "[encoded data removed]",
      "text/plain": [
       "<Figure size 432x288 with 1 Axes>"
      ]
     },
     "metadata": {
      "needs_background": "light"
     },
     "output_type": "display_data"
    }
   ],
   "source": [
    "dfChar.plot('Stock return variance', 'RPRF', kind='scatter')"
   ]
  },
  {
   "cell_type": "code",
   "execution_count": 16,
   "id": "breeding-madison",
   "metadata": {},
   "outputs": [
    {
     "data": {
      "text/plain": [
       "<AxesSubplot:xlabel='Operating profitability', ylabel='RPRF'>"
      ]
     },
     "execution_count": 16,
     "metadata": {},
     "output_type": "execute_result"
    },
    {
     "data": {
      "image/png": "[encoded data removed]",
      "text/plain": [
       "<Figure size 432x288 with 1 Axes>"
      ]
     },
     "metadata": {
      "needs_background": "light"
     },
     "output_type": "display_data"
    }
   ],
   "source": [
    "dfChar.plot('Operating profitability', 'RPRF', kind='scatter')"
   ]
  },
  {
   "cell_type": "code",
   "execution_count": 17,
   "id": "hungry-slovakia",
   "metadata": {},
   "outputs": [
    {
     "data": {
      "text/plain": [
       "<AxesSubplot:xlabel='Investment', ylabel='RPRF'>"
      ]
     },
     "execution_count": 17,
     "metadata": {},
     "output_type": "execute_result"
    },
    {
     "data": {
      "image/png": "[encoded data removed]",
      "text/plain": [
       "<Figure size 432x288 with 1 Axes>"
      ]
     },
     "metadata": {
      "needs_background": "light"
     },
     "output_type": "display_data"
    }
   ],
   "source": [
    "dfChar.plot('Investment', 'RPRF', kind='scatter')"
   ]
  },
  {
   "cell_type": "code",
   "execution_count": 18,
   "id": "sporting-margin",
   "metadata": {},
   "outputs": [
    {
     "data": {
      "text/plain": [
       "<AxesSubplot:xlabel='Accruals', ylabel='RPRF'>"
      ]
     },
     "execution_count": 18,
     "metadata": {},
     "output_type": "execute_result"
    },
    {
     "data": {
      "image/png": "[encoded data removed]",
      "text/plain": [
       "<Figure size 432x288 with 1 Axes>"
      ]
     },
     "metadata": {
      "needs_background": "light"
     },
     "output_type": "display_data"
    }
   ],
   "source": [
    "dfChar.plot('Accruals', 'RPRF', kind='scatter')"
   ]
  },
  {
   "cell_type": "code",
   "execution_count": 19,
   "id": "registered-claim",
   "metadata": {},
   "outputs": [
    {
     "data": {
      "text/plain": [
       "<AxesSubplot:xlabel='CAPM beta', ylabel='RPRF'>"
      ]
     },
     "execution_count": 19,
     "metadata": {},
     "output_type": "execute_result"
    },
    {
     "data": {
      "image/png": "[encoded data removed]",
      "text/plain": [
       "<Figure size 432x288 with 1 Axes>"
      ]
     },
     "metadata": {
      "needs_background": "light"
     },
     "output_type": "display_data"
    }
   ],
   "source": [
    "dfChar.plot('CAPM beta', 'RPRF', kind='scatter')"
   ]
  },
  {
   "cell_type": "code",
   "execution_count": 20,
   "id": "collectible-victor",
   "metadata": {},
   "outputs": [
    {
     "data": {
      "text/plain": [
       "<AxesSubplot:xlabel='Net share issuance', ylabel='RPRF'>"
      ]
     },
     "execution_count": 20,
     "metadata": {},
     "output_type": "execute_result"
    },
    {
     "data": {
      "image/png": "[encoded data removed]",
      "text/plain": [
       "<Figure size 432x288 with 1 Axes>"
      ]
     },
     "metadata": {
      "needs_background": "light"
     },
     "output_type": "display_data"
    }
   ],
   "source": [
    "dfChar.plot('Net share issuance', 'RPRF', kind='scatter')"
   ]
  },
  {
   "cell_type": "code",
   "execution_count": 21,
   "id": "infinite-probability",
   "metadata": {
    "tags": []
   },
   "outputs": [],
   "source": [
    "from sklearn.preprocessing import OneHotEncoder\n",
    "from sklearn.compose import ColumnTransformer\n",
    "from sklearn.pipeline import Pipeline\n",
    "from sklearn.preprocessing import StandardScaler\n",
    "from sklearn.base import BaseEstimator,TransformerMixin\n",
    "from sklearn.ensemble import RandomForestClassifier, RandomForestRegressor\n",
    "from sklearn.model_selection import cross_val_predict\n",
    "from sklearn.metrics import precision_score, recall_score, roc_curve, roc_auc_score, f1_score, r2_score\n",
    "from sklearn.linear_model import LinearRegression\n",
    "\n",
    "# modeling E[R_m] based on items in the list\n",
    "num_cols = ['RMRF',\n",
    "            'RSMB',\n",
    "            'RHML',\n",
    "            'Market capitalization', \n",
    "            'Book-to-market ratio', \n",
    "            'Past 2 to 12 month return', \n",
    "            'Past 1 month return', \n",
    "            'Past 13 to 60 month return', \n",
    "            'Stock return variance', \n",
    "            'Operating profitability', \n",
    "            'Investment', \n",
    "            'Accruals', \n",
    "            'CAPM beta', \n",
    "            'Net share issuance']\n",
    "\n",
    "cat_cols = []  # categorical data, empty in this case because we aint got'em\n",
    "\n",
    "# Pipeline use design pattern called command pattern: take data, put to beginning of the pipe, then at each juncture, \n",
    "# massage the data before output numeric pipeline using \n",
    "# Standard Scaler: take all numeric column and set them to the same scale to prevent variable scales from\n",
    "# dominating the model\n",
    "num_pipeline = Pipeline([\n",
    "        ('std_scaler', StandardScaler())\n",
    "    ])\n",
    "\n",
    "# Create full pipeline: including both numeric and categorical pipeline\n",
    "pipeline = ColumnTransformer([\n",
    "        ('num', num_pipeline, num_cols), \n",
    "        ('cat', OneHotEncoder(), cat_cols)\n",
    "    ])\n",
    "\n",
    "all_x_cols = num_cols + cat_cols\n",
    "y_col = ['E_RPRF']  # this is what we are trying to predict\n",
    "\n",
    "forest_rgr = LinearRegression()   # using linear regression"
   ]
  },
  {
   "cell_type": "markdown",
   "id": "alike-webmaster",
   "metadata": {},
   "source": [
    "### Ordinary Linear Regression of Expected Asset Returns"
   ]
  },
  {
   "cell_type": "code",
   "execution_count": 27,
   "id": "pleased-wedding",
   "metadata": {},
   "outputs": [
    {
     "name": "stdout",
     "output_type": "stream",
     "text": [
      "The coefficients of the factors are:\n"
     ]
    },
    {
     "data": {
      "text/plain": [
       "array([[-3.29597460e-17, -6.41611151e-17, -1.11455983e-16,\n",
       "        -4.75894983e-03, -4.33640554e-03,  1.29089669e-02,\n",
       "         1.53197671e-03, -1.18198778e-02,  3.85469784e-03,\n",
       "        -6.25668324e-03, -4.46362164e-03, -7.70473383e-03,\n",
       "        -6.22670222e-02,  5.89691879e-04]])"
      ]
     },
     "execution_count": 27,
     "metadata": {},
     "output_type": "execute_result"
    },
    {
     "name": "stdout",
     "output_type": "stream",
     "text": [
      "The intercept of the factors is: [0.00837531]\n",
      "R2 = -20.87257355171599\n"
     ]
    }
   ],
   "source": [
    "# Linear Regression\n",
    "forest_rgr = forest_rgr.fit(dfChar[all_x_cols], dfChar[y_col])\n",
    "print(f'The coefficients of the factors are:')\n",
    "forest_rgr.coef_\n",
    "print(f'The intercept of the factors is: {forest_rgr.intercept_}')\n",
    "\n",
    "# R2 metrics\n",
    "train_pred = forest_rgr.predict(dfChar[all_x_cols])\n",
    "print(f'R2 = {r2_score(dfChar[\"RPRF\"], train_pred)}')"
   ]
  },
  {
   "cell_type": "markdown",
   "id": "involved-casting",
   "metadata": {},
   "source": [
    "### Supervised Learning of Regression on Expected Portfolio Returns"
   ]
  },
  {
   "cell_type": "code",
   "execution_count": 22,
   "id": "swedish-leave",
   "metadata": {},
   "outputs": [
    {
     "name": "stdout",
     "output_type": "stream",
     "text": [
      "Train Returns\n",
      "\n",
      "R2: 1.0\n",
      "\n",
      "Test Resturns\n",
      "\n",
      "R2: -0.17355586195853157\n"
     ]
    },
    {
     "data": {
      "text/plain": [
       "array([ 4.33680869e-19,  2.16840434e-19, -1.62630326e-18, -1.57338834e-03,\n",
       "       -3.79866041e-04,  1.05699296e-03, -1.45758727e-04,  6.52439737e-04,\n",
       "       -4.36526043e-04, -1.09665623e-04, -6.56793318e-04, -2.97917280e-03,\n",
       "       -2.16358312e-03,  3.14682386e-05])"
      ]
     },
     "execution_count": 22,
     "metadata": {},
     "output_type": "execute_result"
    }
   ],
   "source": [
    "from sklearn.model_selection import train_test_split\n",
    "\n",
    "X_train, X_test, y_train, y_test = train_test_split(dfChar[all_x_cols], dfChar[y_col], test_size=0.2)\n",
    "\n",
    "# Train\n",
    "X_train_xformed = pipeline.fit_transform(X_train)  # Take X data and squeeze it through the pipeline (do cleaning, impute, etc.)\n",
    "X_test_xformed = pipeline.transform(X_test)\n",
    "forest_rgr = forest_rgr.fit(X_train_xformed, y_train.values.ravel())\n",
    "\n",
    "# Predict\n",
    "print('Train Returns\\n')\n",
    "train_pred = forest_rgr.predict(X_train_xformed)  # predict using the original data set\n",
    "\n",
    "print(f'R2: {r2_score(y_train.values.ravel(), train_pred)}')\n",
    "\n",
    "print('\\nTest Resturns\\n')  # this is what we want to predict\n",
    "test_pred = forest_rgr.predict(X_test_xformed)\n",
    "\n",
    "print(f'R2: {r2_score(y_test.values.ravel(), test_pred)}')\n",
    "\n",
    "forest_rgr.coef_"
   ]
  },
  {
   "cell_type": "code",
   "execution_count": null,
   "id": "formal-efficiency",
   "metadata": {},
   "outputs": [],
   "source": []
  }
 ],
 "metadata": {
  "kernelspec": {
   "display_name": "Python 3",
   "language": "python",
   "name": "python3"
  },
  "language_info": {
   "codemirror_mode": {
    "name": "ipython",
    "version": 3
   },
   "file_extension": ".py",
   "mimetype": "text/x-python",
   "name": "python",
   "nbconvert_exporter": "python",
   "pygments_lexer": "ipython3",
   "version": "3.8.8"
  }
 },
 "nbformat": 4,
 "nbformat_minor": 5
}
